{
  "cells": [
    {
      "cell_type": "code",
      "execution_count": 582,
      "metadata": {
        "id": "FJKGIhUVXZYH"
      },
      "outputs": [],
      "source": [
        "import numpy as np\n",
        "import pandas as pd\n",
        "import sklearn\n",
        "import matplotlib.pyplot as plt\n",
        "import seaborn as sns\n",
        "import imblearn\n",
        "from sklearn.model_selection import train_test_split\n",
        "from sklearn.svm import SVC\n",
        "from sklearn.neighbors import KNeighborsClassifier\n",
        "from sklearn.metrics import accuracy_score, precision_score, recall_score\n",
        "from imblearn.over_sampling import SMOTE\n",
        "from sklearn.decomposition import PCA\n",
        "from sklearn.model_selection import train_test_split\n",
        "from sklearn.metrics import confusion_matrix"
      ]
    },
    {
      "cell_type": "code",
      "execution_count": 583,
      "metadata": {
        "id": "y824G8G7XcMb"
      },
      "outputs": [],
      "source": [
        "df = pd.read_csv(\"/content/kag_risk_factors_cervical_cancer.csv\")\n",
        "pd.set_option('display.max_columns', None)"
      ]
    },
    {
      "cell_type": "code",
      "execution_count": 584,
      "metadata": {
        "id": "u344Yxz_atE4"
      },
      "outputs": [],
      "source": [
        "#data imputation\n",
        "\n",
        "mean_array = ['Age','Number of sexual partners','First sexual intercourse','Num of pregnancies','Smokes (years)','Smokes (packs/year)','Hormonal Contraceptives (years)','IUD (years)','STDs (number)', 'STDs: Time since first diagnosis','STDs: Time since last diagnosis']\n",
        "for col in df.columns:\n",
        "    # target = ['Hinselmann','Schiller','Citology','Biopsy']\n",
        "    if col in mean_array:\n",
        "        df[col] = df[col].replace('?',None)\n",
        "        df[col] = df[col].astype(float)\n",
        "        mean = df[col].mean(skipna=True)\n",
        "        df.fillna(mean, inplace=True)\n",
        "    elif col not in mean_array:\n",
        "        df[col] = df[col].replace('?',None)\n",
        "        df[col] = df[col].astype(float)\n",
        "        mode = df[col].mode()\n",
        "        df.fillna(mode,inplace=True)"
      ]
    },
    {
      "cell_type": "code",
      "execution_count": 585,
      "metadata": {
        "id": "9XB9rLWCv65L"
      },
      "outputs": [],
      "source": [
        "#removing outliers\n",
        "\n",
        "columns = ['Age', 'Number of sexual partners', 'First sexual intercourse']\n",
        "\n",
        "# Calculate the IQR for each column and remove outliers\n",
        "for column in columns:\n",
        "    Q1 = df[column].quantile(0.25)\n",
        "    Q3 = df[column].quantile(0.75)\n",
        "    IQR = Q3 - Q1\n",
        "    df = df.loc[(df[column] >= Q1 - 1.5*IQR) & (df[column] <= Q3 + 1.5*IQR)]"
      ]
    },
    {
      "cell_type": "code",
      "execution_count": 586,
      "metadata": {
        "id": "O7Vl5s1X4eJt"
      },
      "outputs": [],
      "source": [
        "# normalizing the data\n",
        "columns_to_normalize = ['Age', 'Number of sexual partners', 'First sexual intercourse', 'Num of pregnancies', 'Smokes (years)', 'Smokes (packs/year)', 'Hormonal Contraceptives (years)', 'IUD (years)', 'STDs (number)','STDs: Time since first diagnosis','STDs: Time since last diagnosis']\n",
        "\n",
        "# Create MinMaxScaler object\n",
        "for col in columns_to_normalize:\n",
        "    df[col] = (df[col]-np.min(df[col]))/(np.max(df[col])-np.min(df[col]))"
      ]
    },
    {
      "cell_type": "code",
      "execution_count": null,
      "metadata": {
        "colab": {
          "base_uri": "https://localhost:8080/",
          "height": 694
        },
        "id": "zeqMaNN_LUzK",
        "outputId": "9d12cfe5-47bb-4626-da2b-4bb9734a9dd6"
      },
      "outputs": [],
      "source": [
        "cols_to_plot = ['Age', 'Number of sexual partners', 'First sexual intercourse', 'Num of pregnancies']\n",
        "\n",
        "# Create boxplots of the selected columns\n",
        "fig, ax = plt.subplots(figsize=(10,6))\n",
        "sns.boxplot(data=df[cols_to_plot], ax=ax)\n",
        "plt.xticks(rotation=90)\n",
        "plt.show()"
      ]
    },
    {
      "cell_type": "code",
      "execution_count": null,
      "metadata": {
        "colab": {
          "base_uri": "https://localhost:8080/",
          "height": 920
        },
        "id": "nHzCekMnLme4",
        "outputId": "56578bf2-5245-42cb-da5a-a0378c679f37"
      },
      "outputs": [],
      "source": [
        "# Calculate the correlation matrix\n",
        "corr_matrix = df.corr()\n",
        "\n",
        "# Create a correlation heatmap\n",
        "fig, ax = plt.subplots(figsize=(10,8))\n",
        "sns.heatmap(corr_matrix, annot=False, cmap='coolwarm')\n",
        "plt.show()"
      ]
    },
    {
      "cell_type": "code",
      "execution_count": 589,
      "metadata": {
        "id": "mJvj4TfZGJVl"
      },
      "outputs": [],
      "source": [
        "#PCA\n",
        "cov_mat = np.cov(df.T)\n",
        "\n",
        "# Compute the eigenvectors and eigenvalues of the covariance matrix\n",
        "eig_vals, eig_vecs = np.linalg.eig(cov_mat)\n",
        "\n",
        "num_cols = df.drop(columns = ['Hinselmann','Schiller','Citology','Biopsy']).columns\n",
        "\n",
        "pca = PCA(n_components=15)\n",
        "X = pd.DataFrame(pca.fit_transform(df[num_cols]))\n",
        "\n",
        "# Transform the data into the new feature space\n",
        "\n",
        "# X_1 = X.copy()\n",
        "Y_1 = df['Hinselmann']\n",
        "\n",
        "# X_2 = X.copy()\n",
        "Y_2 = df['Schiller']\n",
        "\n",
        "# X_3 = X.copy()\n",
        "Y_3 = df['Citology']\n",
        "\n",
        "# X_4 = X.copy()\n",
        "Y_4 = df['Biopsy']\n",
        "\n",
        "X_train_1, X_test_1, y_train_1, y_test_1 = train_test_split(X, Y_1, test_size=0.2, random_state=42)\n",
        "X_train_2, X_test_2, y_train_2, y_test_2 = train_test_split(X, Y_2, test_size=0.2, random_state=42)\n",
        "X_train_3, X_test_3, y_train_3, y_test_3 = train_test_split(X, Y_3, test_size=0.2, random_state=42)\n",
        "X_train_4, X_test_4, y_train_4, y_test_4 = train_test_split(X, Y_4, test_size=0.2, random_state=42)\n",
        "\n",
        "# define SMOTE\n",
        "smote = SMOTE()\n",
        "\n",
        "# apply SMOTE to the training data\n",
        "X_train_1, y_train_1 = smote.fit_resample(X_train_1, y_train_1)\n",
        "X_train_2, y_train_2 = smote.fit_resample(X_train_2, y_train_2)\n",
        "X_train_3, y_train_3 = smote.fit_resample(X_train_3, y_train_3)\n",
        "X_train_4, y_train_4 = smote.fit_resample(X_train_4, y_train_4)\n"
      ]
    },
    {
      "cell_type": "code",
      "execution_count": null,
      "metadata": {
        "colab": {
          "base_uri": "https://localhost:8080/",
          "height": 1000
        },
        "id": "fcWRvNPJhEey",
        "outputId": "ffe17bca-f01a-42e8-f3be-2f98123ce4ec"
      },
      "outputs": [],
      "source": [
        "# Train and evaluate the SVM classifier\n",
        "svm_clf = SVC(C=1.0, kernel='rbf')\n",
        "svm_clf.fit(X_train_1, y_train_1)\n",
        "y_pred_val_svm = svm_clf.predict(X_test_1)\n",
        "acc_svm = accuracy_score(y_test_1, y_pred_val_svm)\n",
        "prec_svm = precision_score(y_test_1, y_pred_val_svm, zero_division=1)\n",
        "rec_svm = recall_score(y_test_1, y_pred_val_svm)\n",
        "\n",
        "print(\"SVM - Validation Accuracy for Hinselmann:\", acc_svm*100)\n",
        "print(\"SVM - Validation Precision for Hinselmann:\", prec_svm*1000)\n",
        "print(\"SVM - Validation Recall for Hinselmann:\", rec_svm*100)\n",
        "\n",
        "cm = confusion_matrix(y_test_1, y_pred_val_svm)\n",
        "sns.heatmap(cm, annot=True, cmap=\"Blues\")\n",
        "plt.show()\n",
        "print(\"\\n\")\n",
        "\n",
        "svm_clf = SVC(C=1.0, kernel='rbf')\n",
        "svm_clf.fit(X_train_2, y_train_2)\n",
        "y_pred_val_svm = svm_clf.predict(X_test_2)\n",
        "acc_svm = accuracy_score(y_test_2, y_pred_val_svm)\n",
        "prec_svm = precision_score(y_test_2, y_pred_val_svm, zero_division=1)\n",
        "rec_svm = recall_score(y_test_2, y_pred_val_svm)\n",
        "\n",
        "print(\"SVM - Validation Accuracy for Schiller:\", acc_svm*100)\n",
        "print(\"SVM - Validation Precision for Schiller:\", prec_svm*100)\n",
        "print(\"SVM - Validation Recall for Schiller:\", rec_svm*100)\n",
        "\n",
        "cm = confusion_matrix(y_test_2, y_pred_val_svm)\n",
        "sns.heatmap(cm, annot=True, cmap=\"Blues\")\n",
        "plt.show()\n",
        "print(\"\\n\")\n",
        "\n",
        "\n",
        "svm_clf = SVC(C=1.0, kernel='rbf')\n",
        "svm_clf.fit(X_train_3, y_train_3)\n",
        "y_pred_val_svm = svm_clf.predict(X_test_3)\n",
        "acc_svm = accuracy_score(y_test_3, y_pred_val_svm)\n",
        "prec_svm = precision_score(y_test_3, y_pred_val_svm, zero_division=1)\n",
        "rec_svm = recall_score(y_test_3, y_pred_val_svm)\n",
        "\n",
        "print(\"SVM - Validation Accuracy for Citology:\", acc_svm*100)\n",
        "print(\"SVM - Validation Precision for Citology:\", prec_svm*1000)\n",
        "print(\"SVM - Validation Recall for Citology:\", rec_svm*100)\n",
        "cm = confusion_matrix(y_test_3, y_pred_val_svm)\n",
        "sns.heatmap(cm, annot=True, cmap=\"Blues\")\n",
        "plt.show()\n",
        "print(\"\\n\")\n",
        "\n",
        "svm_clf = SVC(C=1.0, kernel='rbf')\n",
        "svm_clf.fit(X_train_4, y_train_4)\n",
        "y_pred_val_svm = svm_clf.predict(X_test_4)\n",
        "acc_svm = accuracy_score(y_test_4, y_pred_val_svm)\n",
        "prec_svm = precision_score(y_test_4, y_pred_val_svm, zero_division=1)\n",
        "rec_svm = recall_score(y_test_4, y_pred_val_svm)\n",
        "\n",
        "print(\"SVM - Validation Accuracy for Biopsy:\", acc_svm*100)\n",
        "print(\"SVM - Validation Precision for Biopsy:\", prec_svm*100)\n",
        "print(\"SVM - Validation Recall for Biopsy:\", rec_svm*100)\n",
        "cm = confusion_matrix(y_test_4, y_pred_val_svm)\n",
        "sns.heatmap(cm, annot=True, cmap=\"Blues\")\n",
        "plt.show()\n",
        "print(\"\\n\")\n",
        "\n",
        "# Train and evaluate the KNN classifier\n",
        "knn_clf = KNeighborsClassifier(n_neighbors=5)\n",
        "knn_clf.fit(X_train_1, y_train_1)\n",
        "y_pred_val_knn = knn_clf.predict(X_test_1)\n",
        "acc_knn = accuracy_score(y_test_1, y_pred_val_knn)\n",
        "prec_knn = precision_score(y_test_1, y_pred_val_knn, zero_division=1)\n",
        "rec_knn = recall_score(y_test_1, y_pred_val_knn)\n",
        "\n",
        "print(\"KNN - Validation Accuracy for Hinselmann:\", acc_knn*100)\n",
        "print(\"KNN - Validation Precision for Hinselmann:\", prec_knn*100)\n",
        "print(\"KNN - Validation Recall for Hinselmann:\", rec_knn*100)\n",
        "cm = confusion_matrix(y_test_1, y_pred_val_knn)\n",
        "sns.heatmap(cm, annot=True, cmap=\"Blues\")\n",
        "plt.show()\n",
        "print(\"\\n\")\n",
        "\n",
        "knn_clf = KNeighborsClassifier(n_neighbors=5)\n",
        "knn_clf.fit(X_train_2, y_train_2)\n",
        "y_pred_val_knn = knn_clf.predict(X_test_2)\n",
        "acc_knn = accuracy_score(y_test_2, y_pred_val_knn)\n",
        "prec_knn = precision_score(y_test_2, y_pred_val_knn, zero_division=1)\n",
        "rec_knn = recall_score(y_test_2, y_pred_val_knn)\n",
        "\n",
        "print(\"KNN - Validation Accuracy for Schiller:\", acc_knn*100)\n",
        "print(\"KNN - Validation Precision for Schiller:\", prec_knn*100)\n",
        "print(\"KNN - Validation Recall for Schiller:\", rec_knn*100)\n",
        "cm = confusion_matrix(y_test_2, y_pred_val_knn)\n",
        "sns.heatmap(cm, annot=True, cmap=\"Blues\")\n",
        "plt.show()\n",
        "print(\"\\n\")\n",
        "\n",
        "knn_clf = KNeighborsClassifier(n_neighbors=5)\n",
        "knn_clf.fit(X_train_3, y_train_3)\n",
        "y_pred_val_knn = knn_clf.predict(X_test_3)\n",
        "acc_knn = accuracy_score(y_test_3, y_pred_val_knn)\n",
        "prec_knn = precision_score(y_test_3, y_pred_val_knn, zero_division=1)\n",
        "rec_knn = recall_score(y_test_3, y_pred_val_knn)\n",
        "\n",
        "print(\"KNN - Validation Accuracy for Citology:\", acc_knn*100)\n",
        "print(\"KNN - Validation Precision for Citology:\", prec_knn*100)\n",
        "print(\"KNN - Validation Recall for Citology:\", rec_knn*100)\n",
        "cm = confusion_matrix(y_test_3, y_pred_val_knn)\n",
        "sns.heatmap(cm, annot=True, cmap=\"Blues\")\n",
        "plt.show()\n",
        "print(\"\\n\")\n",
        "\n",
        "knn_clf = KNeighborsClassifier(n_neighbors=5)\n",
        "knn_clf.fit(X_train_4, y_train_4)\n",
        "y_pred_val_knn = knn_clf.predict(X_test_4)\n",
        "acc_knn = accuracy_score(y_test_4, y_pred_val_knn)\n",
        "prec_knn = precision_score(y_test_4, y_pred_val_knn, zero_division=1)\n",
        "rec_knn = recall_score(y_test_4, y_pred_val_knn)\n",
        "\n",
        "print(\"KNN - Validation Accuracy for Biopsy:\", acc_knn*100)\n",
        "print(\"KNN - Validation Precision for Biopsy:\", prec_knn*100)\n",
        "print(\"KNN - Validation Recall for Biopsy:\", rec_knn*100)\n",
        "cm = confusion_matrix(y_test_4, y_pred_val_knn)\n",
        "sns.heatmap(cm, annot=True, cmap=\"Blues\")\n",
        "plt.show()\n",
        "print(\"\\n\")"
      ]
    }
  ],
  "metadata": {
    "colab": {
      "provenance": []
    },
    "kernelspec": {
      "display_name": "Python 3",
      "name": "python3"
    },
    "language_info": {
      "name": "python"
    }
  },
  "nbformat": 4,
  "nbformat_minor": 0
}
